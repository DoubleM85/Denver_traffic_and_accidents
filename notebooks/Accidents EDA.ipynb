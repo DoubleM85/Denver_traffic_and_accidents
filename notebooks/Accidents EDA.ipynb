{
 "cells": [
  {
   "cell_type": "code",
   "execution_count": 1,
   "id": "a92d4cd9",
   "metadata": {},
   "outputs": [],
   "source": [
    "import warnings\n",
    "warnings.simplefilter(action='ignore', category=FutureWarning)\n",
    "from sqlalchemy import create_engine, text\n",
    "import pandas as pd\n",
    "import psycopg2\n",
    "import matplotlib.pyplot as plt\n",
    "import seaborn as sns\n",
    "import geopandas as gpd\n",
    "from shapely import wkt\n",
    "import folium\n",
    "from folium.plugins import MarkerCluster\n",
    "from folium.plugins import FastMarkerCluster"
   ]
  },
  {
   "cell_type": "code",
   "execution_count": 5,
   "id": "64b928b4",
   "metadata": {},
   "outputs": [],
   "source": [
    "pd.set_option('display.max_columns', None)"
   ]
  },
  {
   "cell_type": "code",
   "execution_count": 58,
   "id": "a2e67619",
   "metadata": {
    "scrolled": true
   },
   "outputs": [
    {
     "name": "stderr",
     "output_type": "stream",
     "text": [
      "C:\\Users\\MattM\\AppData\\Local\\Temp\\ipykernel_424\\1812331200.py:1: DtypeWarning: Columns (15) have mixed types. Specify dtype option on import or set low_memory=False.\n",
      "  accidents = pd.read_csv('../data/traffic_accidents.csv')\n"
     ]
    }
   ],
   "source": [
    "accidents = pd.read_csv('../data/traffic_accidents.csv')"
   ]
  },
  {
   "cell_type": "code",
   "execution_count": 60,
   "id": "217c3057",
   "metadata": {},
   "outputs": [
    {
     "data": {
      "text/plain": [
       "shape                             object\n",
       "object_id                          int64\n",
       "incident_id                        int64\n",
       "offense_id                         int64\n",
       "offense_code                       int64\n",
       "offense_code_extension             int64\n",
       "top_traffic_accident_offense      object\n",
       "first_occurrence_date             object\n",
       "last_occurrence_date              object\n",
       "reported_date                     object\n",
       "incident_address                  object\n",
       "geo_x                            float64\n",
       "geo_y                            float64\n",
       "geo_lon                          float64\n",
       "geo_lat                          float64\n",
       "district_id                       object\n",
       "precinct_id                      float64\n",
       "neighborhood_id                   object\n",
       "bicycle_ind                      float64\n",
       "pedestrian_ind                   float64\n",
       "HARMFUL_EVENT_SEQ_1               object\n",
       "HARMFUL_EVENT_SEQ_2               object\n",
       "HARMFUL_EVENT_SEQ_MOST            object\n",
       "road_location                     object\n",
       "ROAD_DESCRIPTION                  object\n",
       "ROAD_CONTOUR                      object\n",
       "ROAD_CONDITION                    object\n",
       "LIGHT_CONDITION                   object\n",
       "TU1_VEHICLE_TYPE                  object\n",
       "TU1_TRAVEL_DIRECTION              object\n",
       "TU1_VEHICLE_MOVEMENT              object\n",
       "TU1_DRIVER_ACTION                 object\n",
       "TU1_DRIVER_HUMANCONTRIBFACTOR     object\n",
       "TU1_PEDESTRIAN_ACTION             object\n",
       "TU2_VEHICLE_TYPE                  object\n",
       "TU2_TRAVEL_DIRECTION              object\n",
       "TU2_VEHICLE_MOVEMENT              object\n",
       "TU2_DRIVER_ACTION                 object\n",
       "TU2_DRIVER_HUMANCONTRIBFACTOR     object\n",
       "TU2_PEDESTRIAN_ACTION             object\n",
       "SERIOUSLY_INJURED                float64\n",
       "FATALITIES                       float64\n",
       "FATALITY_MODE_1                   object\n",
       "FATALITY_MODE_2                   object\n",
       "SERIOUSLY_INJURED_MODE_1          object\n",
       "SERIOUSLY_INJURED_MODE_2          object\n",
       "POINT_X                          float64\n",
       "POINT_Y                          float64\n",
       "dtype: object"
      ]
     },
     "execution_count": 60,
     "metadata": {},
     "output_type": "execute_result"
    }
   ],
   "source": [
    "accidents.dtypes"
   ]
  },
  {
   "cell_type": "code",
   "execution_count": 7,
   "id": "a8d0b59f",
   "metadata": {},
   "outputs": [
    {
     "data": {
      "text/plain": [
       "'2013-01-01 00:00:00'"
      ]
     },
     "execution_count": 7,
     "metadata": {},
     "output_type": "execute_result"
    }
   ],
   "source": [
    "accidents['first_occurrence_date'].min()"
   ]
  },
  {
   "cell_type": "code",
   "execution_count": 8,
   "id": "f78174a9",
   "metadata": {},
   "outputs": [
    {
     "data": {
      "text/plain": [
       "'2024-06-03 15:54:00'"
      ]
     },
     "execution_count": 8,
     "metadata": {},
     "output_type": "execute_result"
    }
   ],
   "source": [
    "accidents['first_occurrence_date'].max()"
   ]
  },
  {
   "cell_type": "markdown",
   "id": "e5efb63b",
   "metadata": {},
   "source": [
    "### Data from 1-1-2013 to 6-3-2024"
   ]
  },
  {
   "cell_type": "code",
   "execution_count": 9,
   "id": "eaaa8b09",
   "metadata": {},
   "outputs": [
    {
     "data": {
      "text/plain": [
       "top_traffic_accident_offense\n",
       "TRAF - ACCIDENT                   163258\n",
       "TRAF - ACCIDENT - HIT & RUN        72460\n",
       "TRAF - ACCIDENT - DUI/DUID          6790\n",
       "TRAF - ACCIDENT - SBI               3926\n",
       "TRAF - ACCIDENT - POLICE            2438\n",
       "TRAF - ACCIDENT - FATAL              685\n",
       "Name: count, dtype: int64"
      ]
     },
     "execution_count": 9,
     "metadata": {},
     "output_type": "execute_result"
    }
   ],
   "source": [
    "accidents['top_traffic_accident_offense'].value_counts()"
   ]
  },
  {
   "cell_type": "code",
   "execution_count": 10,
   "id": "91be057f",
   "metadata": {},
   "outputs": [
    {
     "data": {
      "text/plain": [
       "road_location\n",
       "ON ROADWAY                                           173261\n",
       "On Roadway                                            38047\n",
       "ON PRIVATE PROPERTY                                   15595\n",
       "                                                       5861\n",
       "RAN OFF RIGHT SIDE                                     4264\n",
       "On Private Property                                    4223\n",
       "RAN OFF LEFT SIDE                                      2371\n",
       "Ran Off Right Side                                     1341\n",
       "UNDER INVESTIGATION                                     876\n",
       "Ran Off Left Side                                       544\n",
       "VEHICLE CROSSED CENTER MEDIAN INTO OPPOSING LANES       425\n",
       "RAN OFF 'T' INTERSECTION                                268\n",
       "Center Median/Island                                    221\n",
       "Vehicle Crossed Center Median Into Opposing Lanes        92\n",
       "Ran Off 'T' Intersection                                 74\n",
       "Name: count, dtype: int64"
      ]
     },
     "execution_count": 10,
     "metadata": {},
     "output_type": "execute_result"
    }
   ],
   "source": [
    "accidents['road_location'].value_counts()"
   ]
  },
  {
   "cell_type": "code",
   "execution_count": 11,
   "id": "ecfc92dc",
   "metadata": {},
   "outputs": [
    {
     "data": {
      "text/plain": [
       "LIGHT_CONDITION\n",
       "DAY LIGHT              138562\n",
       "DARK-LIGHTED            44846\n",
       "Daylight                31789\n",
       "Dark-Lighted            11563\n",
       "DAWN OR DUSK             8289\n",
       "                         6002\n",
       "DARK-UNLIGHTED           4346\n",
       "Dawn or Dusk             1608\n",
       "Dark-Unlighted           1311\n",
       "UNDER INVESTIGATION       876\n",
       "Name: count, dtype: int64"
      ]
     },
     "execution_count": 11,
     "metadata": {},
     "output_type": "execute_result"
    }
   ],
   "source": [
    "accidents['LIGHT_CONDITION'].value_counts()"
   ]
  },
  {
   "cell_type": "code",
   "execution_count": 18,
   "id": "4ba27977",
   "metadata": {},
   "outputs": [
    {
     "data": {
      "text/html": [
       "<div>\n",
       "<style scoped>\n",
       "    .dataframe tbody tr th:only-of-type {\n",
       "        vertical-align: middle;\n",
       "    }\n",
       "\n",
       "    .dataframe tbody tr th {\n",
       "        vertical-align: top;\n",
       "    }\n",
       "\n",
       "    .dataframe thead th {\n",
       "        text-align: right;\n",
       "    }\n",
       "</style>\n",
       "<table border=\"1\" class=\"dataframe\">\n",
       "  <thead>\n",
       "    <tr style=\"text-align: right;\">\n",
       "      <th></th>\n",
       "      <th>shape</th>\n",
       "      <th>object_id</th>\n",
       "      <th>incident_id</th>\n",
       "      <th>offense_id</th>\n",
       "      <th>offense_code</th>\n",
       "      <th>offense_code_extension</th>\n",
       "      <th>top_traffic_accident_offense</th>\n",
       "      <th>first_occurrence_date</th>\n",
       "      <th>last_occurrence_date</th>\n",
       "      <th>reported_date</th>\n",
       "      <th>incident_address</th>\n",
       "      <th>geo_x</th>\n",
       "      <th>geo_y</th>\n",
       "      <th>geo_lon</th>\n",
       "      <th>geo_lat</th>\n",
       "      <th>district_id</th>\n",
       "      <th>precinct_id</th>\n",
       "      <th>neighborhood_id</th>\n",
       "      <th>bicycle_ind</th>\n",
       "      <th>pedestrian_ind</th>\n",
       "      <th>HARMFUL_EVENT_SEQ_1</th>\n",
       "      <th>HARMFUL_EVENT_SEQ_2</th>\n",
       "      <th>HARMFUL_EVENT_SEQ_MOST</th>\n",
       "      <th>road_location</th>\n",
       "      <th>ROAD_DESCRIPTION</th>\n",
       "      <th>ROAD_CONTOUR</th>\n",
       "      <th>ROAD_CONDITION</th>\n",
       "      <th>LIGHT_CONDITION</th>\n",
       "      <th>TU1_VEHICLE_TYPE</th>\n",
       "      <th>TU1_TRAVEL_DIRECTION</th>\n",
       "      <th>TU1_VEHICLE_MOVEMENT</th>\n",
       "      <th>TU1_DRIVER_ACTION</th>\n",
       "      <th>TU1_DRIVER_HUMANCONTRIBFACTOR</th>\n",
       "      <th>TU1_PEDESTRIAN_ACTION</th>\n",
       "      <th>TU2_VEHICLE_TYPE</th>\n",
       "      <th>TU2_TRAVEL_DIRECTION</th>\n",
       "      <th>TU2_VEHICLE_MOVEMENT</th>\n",
       "      <th>TU2_DRIVER_ACTION</th>\n",
       "      <th>TU2_DRIVER_HUMANCONTRIBFACTOR</th>\n",
       "      <th>TU2_PEDESTRIAN_ACTION</th>\n",
       "      <th>SERIOUSLY_INJURED</th>\n",
       "      <th>FATALITIES</th>\n",
       "      <th>FATALITY_MODE_1</th>\n",
       "      <th>FATALITY_MODE_2</th>\n",
       "      <th>SERIOUSLY_INJURED_MODE_1</th>\n",
       "      <th>SERIOUSLY_INJURED_MODE_2</th>\n",
       "      <th>POINT_X</th>\n",
       "      <th>POINT_Y</th>\n",
       "    </tr>\n",
       "  </thead>\n",
       "  <tbody>\n",
       "    <tr>\n",
       "      <th>0</th>\n",
       "      <td>&lt;geoprocessing describe geometry object object...</td>\n",
       "      <td>38432</td>\n",
       "      <td>2016562933</td>\n",
       "      <td>201656293354410</td>\n",
       "      <td>5441</td>\n",
       "      <td>0</td>\n",
       "      <td>TRAF - ACCIDENT</td>\n",
       "      <td>2016-09-02 20:20:00</td>\n",
       "      <td>NaT</td>\n",
       "      <td>2016-09-02 20:23:00.000001</td>\n",
       "      <td>5200 BLOCK W YALE AVE</td>\n",
       "      <td>3125667.0</td>\n",
       "      <td>1668402.0</td>\n",
       "      <td>-105.053598</td>\n",
       "      <td>39.667713</td>\n",
       "      <td>4</td>\n",
       "      <td>423.0</td>\n",
       "      <td>Bear Valley</td>\n",
       "      <td>0.0</td>\n",
       "      <td>0.0</td>\n",
       "      <td>FRONT TO REAR WITH MV IN TRANSPORT</td>\n",
       "      <td>FRONT TO REAR WITH MV IN TRANSPORT</td>\n",
       "      <td>FRONT TO REAR WITH MV IN TRANSPORT</td>\n",
       "      <td>ON ROADWAY</td>\n",
       "      <td>INTERSECTION RELATED</td>\n",
       "      <td>STRAIGHT ON-LEVEL</td>\n",
       "      <td>DRY</td>\n",
       "      <td>DARK-LIGHTED</td>\n",
       "      <td>PASSENGER CAR/VAN</td>\n",
       "      <td>EAST</td>\n",
       "      <td>GOING STRAIGHT</td>\n",
       "      <td>17</td>\n",
       "      <td>DISTRACTED CELLPHONE</td>\n",
       "      <td>OTHER</td>\n",
       "      <td>PASSENGER CAR/VAN</td>\n",
       "      <td>EAST</td>\n",
       "      <td>STOPPED IN TRAFFIC</td>\n",
       "      <td>00</td>\n",
       "      <td>NO APPARENT</td>\n",
       "      <td>OTHER</td>\n",
       "      <td>0.0</td>\n",
       "      <td>0.0</td>\n",
       "      <td>OTHER</td>\n",
       "      <td>OTHER</td>\n",
       "      <td>OTHER</td>\n",
       "      <td>OTHER</td>\n",
       "      <td>NaN</td>\n",
       "      <td>NaN</td>\n",
       "    </tr>\n",
       "    <tr>\n",
       "      <th>1</th>\n",
       "      <td>&lt;geoprocessing describe geometry object object...</td>\n",
       "      <td>38433</td>\n",
       "      <td>2016375907</td>\n",
       "      <td>201637590754410</td>\n",
       "      <td>5441</td>\n",
       "      <td>0</td>\n",
       "      <td>TRAF - ACCIDENT</td>\n",
       "      <td>2016-06-15 15:35:00</td>\n",
       "      <td>NaT</td>\n",
       "      <td>2016-06-15 15:35:00.000000</td>\n",
       "      <td>W 6TH AVE / N BRYANT ST</td>\n",
       "      <td>3135388.0</td>\n",
       "      <td>1689436.0</td>\n",
       "      <td>-105.018671</td>\n",
       "      <td>39.725320</td>\n",
       "      <td>1</td>\n",
       "      <td>122.0</td>\n",
       "      <td>Sun Valley</td>\n",
       "      <td>0.0</td>\n",
       "      <td>0.0</td>\n",
       "      <td>SIDE TO SIDE SAME DIRECTION WITH MV IN TRANSPORT</td>\n",
       "      <td>FRONT TO REAR WITH MV IN TRANSPORT</td>\n",
       "      <td>SIDE TO SIDE SAME DIRECTION WITH MV IN TRANSPORT</td>\n",
       "      <td>ON ROADWAY</td>\n",
       "      <td>HIGHWAY INTERCHANGE</td>\n",
       "      <td>STRAIGHT ON-GRADE</td>\n",
       "      <td>DRY</td>\n",
       "      <td>DAY LIGHT</td>\n",
       "      <td>PASSENGER CAR/VAN</td>\n",
       "      <td>EAST</td>\n",
       "      <td>CHANGING LANES</td>\n",
       "      <td>FAILED TO YIELD ROW</td>\n",
       "      <td>NO APPARENT</td>\n",
       "      <td></td>\n",
       "      <td>SUV</td>\n",
       "      <td>EAST</td>\n",
       "      <td>GOING STRAIGHT</td>\n",
       "      <td>OTHER</td>\n",
       "      <td>NO APPARENT</td>\n",
       "      <td></td>\n",
       "      <td>0.0</td>\n",
       "      <td>0.0</td>\n",
       "      <td></td>\n",
       "      <td></td>\n",
       "      <td></td>\n",
       "      <td></td>\n",
       "      <td>NaN</td>\n",
       "      <td>NaN</td>\n",
       "    </tr>\n",
       "  </tbody>\n",
       "</table>\n",
       "</div>"
      ],
      "text/plain": [
       "                                               shape  object_id  incident_id  \\\n",
       "0  <geoprocessing describe geometry object object...      38432   2016562933   \n",
       "1  <geoprocessing describe geometry object object...      38433   2016375907   \n",
       "\n",
       "        offense_id  offense_code  offense_code_extension  \\\n",
       "0  201656293354410          5441                       0   \n",
       "1  201637590754410          5441                       0   \n",
       "\n",
       "     top_traffic_accident_offense first_occurrence_date last_occurrence_date  \\\n",
       "0  TRAF - ACCIDENT                  2016-09-02 20:20:00                  NaT   \n",
       "1  TRAF - ACCIDENT                  2016-06-15 15:35:00                  NaT   \n",
       "\n",
       "               reported_date         incident_address      geo_x      geo_y  \\\n",
       "0 2016-09-02 20:23:00.000001    5200 BLOCK W YALE AVE  3125667.0  1668402.0   \n",
       "1 2016-06-15 15:35:00.000000  W 6TH AVE / N BRYANT ST  3135388.0  1689436.0   \n",
       "\n",
       "      geo_lon    geo_lat district_id  precinct_id neighborhood_id  \\\n",
       "0 -105.053598  39.667713      4             423.0     Bear Valley   \n",
       "1 -105.018671  39.725320      1             122.0      Sun Valley   \n",
       "\n",
       "   bicycle_ind  pedestrian_ind  \\\n",
       "0          0.0             0.0   \n",
       "1          0.0             0.0   \n",
       "\n",
       "                                HARMFUL_EVENT_SEQ_1  \\\n",
       "0                FRONT TO REAR WITH MV IN TRANSPORT   \n",
       "1  SIDE TO SIDE SAME DIRECTION WITH MV IN TRANSPORT   \n",
       "\n",
       "                  HARMFUL_EVENT_SEQ_2  \\\n",
       "0  FRONT TO REAR WITH MV IN TRANSPORT   \n",
       "1  FRONT TO REAR WITH MV IN TRANSPORT   \n",
       "\n",
       "                             HARMFUL_EVENT_SEQ_MOST road_location  \\\n",
       "0                FRONT TO REAR WITH MV IN TRANSPORT    ON ROADWAY   \n",
       "1  SIDE TO SIDE SAME DIRECTION WITH MV IN TRANSPORT    ON ROADWAY   \n",
       "\n",
       "       ROAD_DESCRIPTION       ROAD_CONTOUR ROAD_CONDITION LIGHT_CONDITION  \\\n",
       "0  INTERSECTION RELATED  STRAIGHT ON-LEVEL            DRY    DARK-LIGHTED   \n",
       "1   HIGHWAY INTERCHANGE  STRAIGHT ON-GRADE            DRY       DAY LIGHT   \n",
       "\n",
       "    TU1_VEHICLE_TYPE TU1_TRAVEL_DIRECTION TU1_VEHICLE_MOVEMENT  \\\n",
       "0  PASSENGER CAR/VAN                 EAST       GOING STRAIGHT   \n",
       "1  PASSENGER CAR/VAN                 EAST       CHANGING LANES   \n",
       "\n",
       "     TU1_DRIVER_ACTION TU1_DRIVER_HUMANCONTRIBFACTOR TU1_PEDESTRIAN_ACTION  \\\n",
       "0                   17          DISTRACTED CELLPHONE                 OTHER   \n",
       "1  FAILED TO YIELD ROW                   NO APPARENT                         \n",
       "\n",
       "    TU2_VEHICLE_TYPE TU2_TRAVEL_DIRECTION TU2_VEHICLE_MOVEMENT  \\\n",
       "0  PASSENGER CAR/VAN                 EAST   STOPPED IN TRAFFIC   \n",
       "1                SUV                 EAST       GOING STRAIGHT   \n",
       "\n",
       "  TU2_DRIVER_ACTION TU2_DRIVER_HUMANCONTRIBFACTOR TU2_PEDESTRIAN_ACTION  \\\n",
       "0                00                   NO APPARENT                 OTHER   \n",
       "1             OTHER                   NO APPARENT                         \n",
       "\n",
       "   SERIOUSLY_INJURED  FATALITIES FATALITY_MODE_1 FATALITY_MODE_2  \\\n",
       "0                0.0         0.0           OTHER           OTHER   \n",
       "1                0.0         0.0                                   \n",
       "\n",
       "  SERIOUSLY_INJURED_MODE_1 SERIOUSLY_INJURED_MODE_2  POINT_X  POINT_Y  \n",
       "0                    OTHER                    OTHER      NaN      NaN  \n",
       "1                                                        NaN      NaN  "
      ]
     },
     "execution_count": 18,
     "metadata": {},
     "output_type": "execute_result"
    }
   ],
   "source": [
    "accidents.head(2)"
   ]
  },
  {
   "cell_type": "code",
   "execution_count": 17,
   "id": "e012131d",
   "metadata": {},
   "outputs": [],
   "source": [
    "accidents['first_occurrence_date'] = pd.to_datetime(accidents['first_occurrence_date'], format='ISO8601')\n",
    "accidents['last_occurrence_date'] = pd.to_datetime(accidents['last_occurrence_date'], format='ISO8601')\n",
    "accidents['reported_date'] = pd.to_datetime(accidents['reported_date'], format='ISO8601')\n",
    "accidents['month'] = accidents['reported_date'].dt.month\n",
    "accidents['month_name'] = accidents['reported_date'].dt.month_name()\n",
    "accidents['year'] = accidents['reported_date'].dt.year"
   ]
  },
  {
   "cell_type": "code",
   "execution_count": 19,
   "id": "7950ce12",
   "metadata": {},
   "outputs": [
    {
     "data": {
      "text/plain": [
       "(249557, 48)"
      ]
     },
     "execution_count": 19,
     "metadata": {},
     "output_type": "execute_result"
    }
   ],
   "source": [
    "accidents.shape"
   ]
  },
  {
   "cell_type": "code",
   "execution_count": 27,
   "id": "8132adc0",
   "metadata": {},
   "outputs": [
    {
     "data": {
      "text/plain": [
       "<bound method NDFrame.describe of 0        2016-09-02 20:23:00.000001\n",
       "1        2016-06-15 15:35:00.000000\n",
       "2        2016-09-04 12:48:00.000000\n",
       "3        2016-12-03 16:09:00.000001\n",
       "4        2016-09-12 11:41:00.000000\n",
       "                    ...            \n",
       "249552   2016-11-18 08:15:00.000000\n",
       "249553   2016-09-24 13:14:00.000000\n",
       "249554   2016-09-09 08:18:00.000000\n",
       "249555   2016-01-20 19:08:00.000000\n",
       "249556   2016-06-23 12:11:00.000001\n",
       "Name: reported_date, Length: 249557, dtype: datetime64[ns]>"
      ]
     },
     "execution_count": 27,
     "metadata": {},
     "output_type": "execute_result"
    }
   ],
   "source": [
    "accidents['reported_date'].describe"
   ]
  },
  {
   "cell_type": "code",
   "execution_count": 45,
   "id": "4591dd9d",
   "metadata": {},
   "outputs": [],
   "source": [
    "accidents['month'] = accidents['reported_date'].dt.month\n",
    "accidents['month_name'] = accidents['reported_date'].dt.month_name()\n",
    "accidents['year'] = accidents['reported_date'].dt.year"
   ]
  },
  {
   "cell_type": "code",
   "execution_count": 52,
   "id": "4a758c34",
   "metadata": {},
   "outputs": [],
   "source": [
    "over_time = accidents.groupby('year').agg({'offense_id' : 'nunique'}).reset_index()"
   ]
  },
  {
   "cell_type": "code",
   "execution_count": 53,
   "id": "cf1b7053",
   "metadata": {},
   "outputs": [
    {
     "data": {
      "text/html": [
       "<div>\n",
       "<style scoped>\n",
       "    .dataframe tbody tr th:only-of-type {\n",
       "        vertical-align: middle;\n",
       "    }\n",
       "\n",
       "    .dataframe tbody tr th {\n",
       "        vertical-align: top;\n",
       "    }\n",
       "\n",
       "    .dataframe thead th {\n",
       "        text-align: right;\n",
       "    }\n",
       "</style>\n",
       "<table border=\"1\" class=\"dataframe\">\n",
       "  <thead>\n",
       "    <tr style=\"text-align: right;\">\n",
       "      <th></th>\n",
       "      <th>year</th>\n",
       "      <th>offense_id</th>\n",
       "    </tr>\n",
       "  </thead>\n",
       "  <tbody>\n",
       "    <tr>\n",
       "      <th>0</th>\n",
       "      <td>2013</td>\n",
       "      <td>21617</td>\n",
       "    </tr>\n",
       "    <tr>\n",
       "      <th>1</th>\n",
       "      <td>2014</td>\n",
       "      <td>23109</td>\n",
       "    </tr>\n",
       "    <tr>\n",
       "      <th>2</th>\n",
       "      <td>2015</td>\n",
       "      <td>24796</td>\n",
       "    </tr>\n",
       "    <tr>\n",
       "      <th>3</th>\n",
       "      <td>2016</td>\n",
       "      <td>25434</td>\n",
       "    </tr>\n",
       "    <tr>\n",
       "      <th>4</th>\n",
       "      <td>2017</td>\n",
       "      <td>25900</td>\n",
       "    </tr>\n",
       "    <tr>\n",
       "      <th>5</th>\n",
       "      <td>2018</td>\n",
       "      <td>25577</td>\n",
       "    </tr>\n",
       "    <tr>\n",
       "      <th>6</th>\n",
       "      <td>2019</td>\n",
       "      <td>24881</td>\n",
       "    </tr>\n",
       "    <tr>\n",
       "      <th>7</th>\n",
       "      <td>2020</td>\n",
       "      <td>15930</td>\n",
       "    </tr>\n",
       "    <tr>\n",
       "      <th>8</th>\n",
       "      <td>2021</td>\n",
       "      <td>18465</td>\n",
       "    </tr>\n",
       "    <tr>\n",
       "      <th>9</th>\n",
       "      <td>2022</td>\n",
       "      <td>18081</td>\n",
       "    </tr>\n",
       "    <tr>\n",
       "      <th>10</th>\n",
       "      <td>2023</td>\n",
       "      <td>18370</td>\n",
       "    </tr>\n",
       "    <tr>\n",
       "      <th>11</th>\n",
       "      <td>2024</td>\n",
       "      <td>7390</td>\n",
       "    </tr>\n",
       "  </tbody>\n",
       "</table>\n",
       "</div>"
      ],
      "text/plain": [
       "    year  offense_id\n",
       "0   2013       21617\n",
       "1   2014       23109\n",
       "2   2015       24796\n",
       "3   2016       25434\n",
       "4   2017       25900\n",
       "5   2018       25577\n",
       "6   2019       24881\n",
       "7   2020       15930\n",
       "8   2021       18465\n",
       "9   2022       18081\n",
       "10  2023       18370\n",
       "11  2024        7390"
      ]
     },
     "execution_count": 53,
     "metadata": {},
     "output_type": "execute_result"
    }
   ],
   "source": [
    "over_time"
   ]
  },
  {
   "cell_type": "code",
   "execution_count": 54,
   "id": "6032acdb",
   "metadata": {},
   "outputs": [
    {
     "data": {
      "text/plain": [
       "249550"
      ]
     },
     "execution_count": 54,
     "metadata": {},
     "output_type": "execute_result"
    }
   ],
   "source": [
    "accidents['offense_id'].nunique()"
   ]
  },
  {
   "cell_type": "code",
   "execution_count": 55,
   "id": "8c425582",
   "metadata": {},
   "outputs": [
    {
     "data": {
      "text/plain": [
       "[<matplotlib.lines.Line2D at 0x24c05e492d0>]"
      ]
     },
     "execution_count": 55,
     "metadata": {},
     "output_type": "execute_result"
    },
    {
     "data": {
      "image/png": "[encoded data removed]",
      "text/plain": [
       "<Figure size 640x480 with 1 Axes>"
      ]
     },
     "metadata": {},
     "output_type": "display_data"
    }
   ],
   "source": [
    "plt.plot(over_time['year'], over_time['offense_id'])"
   ]
  },
  {
   "cell_type": "code",
   "execution_count": 56,
   "id": "72528aa3",
   "metadata": {},
   "outputs": [],
   "source": [
    "accidents.to_csv('../data/accidents_clean.csv')"
   ]
  },
  {
   "cell_type": "code",
   "execution_count": null,
   "id": "dfd03b60",
   "metadata": {},
   "outputs": [],
   "source": []
  }
 ],
 "metadata": {
  "kernelspec": {
   "display_name": "Python [conda env:scooters]",
   "language": "python",
   "name": "conda-env-scooters-py"
  },
  "language_info": {
   "codemirror_mode": {
    "name": "ipython",
    "version": 3
   },
   "file_extension": ".py",
   "mimetype": "text/x-python",
   "name": "python",
   "nbconvert_exporter": "python",
   "pygments_lexer": "ipython3",
   "version": "3.10.14"
  }
 },
 "nbformat": 4,
 "nbformat_minor": 5
}
