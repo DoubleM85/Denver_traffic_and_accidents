{
 "cells": [
  {
   "cell_type": "code",
   "execution_count": 1,
   "id": "a92d4cd9",
   "metadata": {},
   "outputs": [],
   "source": [
    "import warnings\n",
    "warnings.simplefilter(action='ignore', category=FutureWarning)\n",
    "from sqlalchemy import create_engine, text\n",
    "import pandas as pd\n",
    "import psycopg2\n",
    "import matplotlib.pyplot as plt\n",
    "import seaborn as sns\n",
    "import geopandas as gpd\n",
    "from shapely import wkt\n",
    "import folium\n",
    "from folium.plugins import MarkerCluster\n",
    "from folium.plugins import FastMarkerCluster"
   ]
  },
  {
   "cell_type": "code",
   "execution_count": 2,
   "id": "64b928b4",
   "metadata": {},
   "outputs": [],
   "source": [
    "pd.set_option('display.max_columns', None)"
   ]
  },
  {
   "cell_type": "code",
   "execution_count": 3,
   "id": "a2e67619",
   "metadata": {
    "scrolled": true
   },
   "outputs": [],
   "source": [
    "accidents = pd.read_csv('../data/traffic_accidents.csv')"
   ]
  },
  {
   "cell_type": "code",
   "execution_count": 4,
   "id": "217c3057",
   "metadata": {},
   "outputs": [
    {
     "data": {
      "text/plain": [
       "offense_id                         int64\n",
       "dist_from_signal                 float64\n",
       "top_traffic_accident_offense      object\n",
       "reported_date                     object\n",
       "incident_address                  object\n",
       "lon                              float64\n",
       "lat                              float64\n",
       "district_id                       object\n",
       "precinct_id                      float64\n",
       "neighborhood_id                   object\n",
       "bicycle_ind                      float64\n",
       "pedestrian_ind                   float64\n",
       "HARMFUL_EVENT_SEQ_MOST            object\n",
       "ROAD_DESCRIPTION                  object\n",
       "ROAD_CONDITION                    object\n",
       "LIGHT_CONDITION                   object\n",
       "TU1_VEHICLE_TYPE                  object\n",
       "TU1_TRAVEL_DIRECTION              object\n",
       "TU1_VEHICLE_MOVEMENT              object\n",
       "TU1_DRIVER_ACTION                 object\n",
       "TU1_DRIVER_HUMANCONTRIBFACTOR     object\n",
       "TU1_PEDESTRIAN_ACTION             object\n",
       "TU2_VEHICLE_TYPE                  object\n",
       "TU2_TRAVEL_DIRECTION              object\n",
       "TU2_VEHICLE_MOVEMENT              object\n",
       "TU2_DRIVER_ACTION                 object\n",
       "TU2_DRIVER_HUMANCONTRIBFACTOR     object\n",
       "TU2_PEDESTRIAN_ACTION             object\n",
       "SERIOUSLY_INJURED                float64\n",
       "FATALITIES                       float64\n",
       "FATALITY_MODE_1                   object\n",
       "FATALITY_MODE_2                   object\n",
       "SERIOUSLY_INJURED_MODE_1          object\n",
       "SERIOUSLY_INJURED_MODE_2          object\n",
       "POINT_X                          float64\n",
       "POINT_Y                          float64\n",
       "dtype: object"
      ]
     },
     "execution_count": 4,
     "metadata": {},
     "output_type": "execute_result"
    }
   ],
   "source": [
    "accidents.dtypes"
   ]
  },
  {
   "cell_type": "markdown",
   "id": "e5efb63b",
   "metadata": {},
   "source": [
    "### Data from 1-1-2013 to 6-3-2024"
   ]
  },
  {
   "cell_type": "code",
   "execution_count": 5,
   "id": "eaaa8b09",
   "metadata": {},
   "outputs": [
    {
     "data": {
      "text/plain": [
       "top_traffic_accident_offense\n",
       "TRAF - ACCIDENT                   145445\n",
       "TRAF - ACCIDENT - HIT & RUN        64684\n",
       "TRAF - ACCIDENT - DUI/DUID          6057\n",
       "TRAF - ACCIDENT - SBI               3494\n",
       "TRAF - ACCIDENT - POLICE            2193\n",
       "TRAF - ACCIDENT - FATAL              629\n",
       "Name: count, dtype: int64"
      ]
     },
     "execution_count": 5,
     "metadata": {},
     "output_type": "execute_result"
    }
   ],
   "source": [
    "accidents['top_traffic_accident_offense'].value_counts()"
   ]
  },
  {
   "cell_type": "code",
   "execution_count": 6,
   "id": "ecfc92dc",
   "metadata": {},
   "outputs": [
    {
     "data": {
      "text/plain": [
       "LIGHT_CONDITION\n",
       "DAY LIGHT              123343\n",
       "DARK-LIGHTED            39946\n",
       "Daylight                28474\n",
       "Dark-Lighted            10347\n",
       "DAWN OR DUSK             7394\n",
       "                         5384\n",
       "DARK-UNLIGHTED           3851\n",
       "Dawn or Dusk             1422\n",
       "Dark-Unlighted           1180\n",
       "UNDER INVESTIGATION       832\n",
       "Name: count, dtype: int64"
      ]
     },
     "execution_count": 6,
     "metadata": {},
     "output_type": "execute_result"
    }
   ],
   "source": [
    "accidents['LIGHT_CONDITION'].value_counts()"
   ]
  },
  {
   "cell_type": "code",
   "execution_count": 7,
   "id": "4ba27977",
   "metadata": {},
   "outputs": [
    {
     "data": {
      "text/html": [
       "<div>\n",
       "<style scoped>\n",
       "    .dataframe tbody tr th:only-of-type {\n",
       "        vertical-align: middle;\n",
       "    }\n",
       "\n",
       "    .dataframe tbody tr th {\n",
       "        vertical-align: top;\n",
       "    }\n",
       "\n",
       "    .dataframe thead th {\n",
       "        text-align: right;\n",
       "    }\n",
       "</style>\n",
       "<table border=\"1\" class=\"dataframe\">\n",
       "  <thead>\n",
       "    <tr style=\"text-align: right;\">\n",
       "      <th></th>\n",
       "      <th>offense_id</th>\n",
       "      <th>dist_from_signal</th>\n",
       "      <th>top_traffic_accident_offense</th>\n",
       "      <th>reported_date</th>\n",
       "      <th>incident_address</th>\n",
       "      <th>lon</th>\n",
       "      <th>lat</th>\n",
       "      <th>district_id</th>\n",
       "      <th>precinct_id</th>\n",
       "      <th>neighborhood_id</th>\n",
       "      <th>bicycle_ind</th>\n",
       "      <th>pedestrian_ind</th>\n",
       "      <th>HARMFUL_EVENT_SEQ_MOST</th>\n",
       "      <th>ROAD_DESCRIPTION</th>\n",
       "      <th>ROAD_CONDITION</th>\n",
       "      <th>LIGHT_CONDITION</th>\n",
       "      <th>TU1_VEHICLE_TYPE</th>\n",
       "      <th>TU1_TRAVEL_DIRECTION</th>\n",
       "      <th>TU1_VEHICLE_MOVEMENT</th>\n",
       "      <th>TU1_DRIVER_ACTION</th>\n",
       "      <th>TU1_DRIVER_HUMANCONTRIBFACTOR</th>\n",
       "      <th>TU1_PEDESTRIAN_ACTION</th>\n",
       "      <th>TU2_VEHICLE_TYPE</th>\n",
       "      <th>TU2_TRAVEL_DIRECTION</th>\n",
       "      <th>TU2_VEHICLE_MOVEMENT</th>\n",
       "      <th>TU2_DRIVER_ACTION</th>\n",
       "      <th>TU2_DRIVER_HUMANCONTRIBFACTOR</th>\n",
       "      <th>TU2_PEDESTRIAN_ACTION</th>\n",
       "      <th>SERIOUSLY_INJURED</th>\n",
       "      <th>FATALITIES</th>\n",
       "      <th>FATALITY_MODE_1</th>\n",
       "      <th>FATALITY_MODE_2</th>\n",
       "      <th>SERIOUSLY_INJURED_MODE_1</th>\n",
       "      <th>SERIOUSLY_INJURED_MODE_2</th>\n",
       "      <th>POINT_X</th>\n",
       "      <th>POINT_Y</th>\n",
       "    </tr>\n",
       "  </thead>\n",
       "  <tbody>\n",
       "    <tr>\n",
       "      <th>0</th>\n",
       "      <td>202412503554010</td>\n",
       "      <td>0.0</td>\n",
       "      <td>TRAF - ACCIDENT - HIT &amp; RUN</td>\n",
       "      <td>3/5/24 15:07</td>\n",
       "      <td>E SPEER BLVD / N GRANT ST</td>\n",
       "      <td>-104.983794</td>\n",
       "      <td>39.723423</td>\n",
       "      <td>3</td>\n",
       "      <td>311.0</td>\n",
       "      <td>Speer</td>\n",
       "      <td>0.0</td>\n",
       "      <td>0.0</td>\n",
       "      <td>Front to Rear</td>\n",
       "      <td>Intersection Related</td>\n",
       "      <td>Dry</td>\n",
       "      <td>Daylight</td>\n",
       "      <td>Passenger Car/Passenger Van</td>\n",
       "      <td>East</td>\n",
       "      <td>Going Straight</td>\n",
       "      <td>Careless Driving</td>\n",
       "      <td>Aggressive Driving</td>\n",
       "      <td>NaN</td>\n",
       "      <td>Passenger Car/Passenger Van</td>\n",
       "      <td>East</td>\n",
       "      <td>Going Straight</td>\n",
       "      <td>No Contributing Action</td>\n",
       "      <td>No Apparent Contributing Factor</td>\n",
       "      <td>NaN</td>\n",
       "      <td>0.0</td>\n",
       "      <td>0.0</td>\n",
       "      <td>NaN</td>\n",
       "      <td>NaN</td>\n",
       "      <td>NaN</td>\n",
       "      <td>NaN</td>\n",
       "      <td>NaN</td>\n",
       "      <td>NaN</td>\n",
       "    </tr>\n",
       "    <tr>\n",
       "      <th>1</th>\n",
       "      <td>202323009454010</td>\n",
       "      <td>0.0</td>\n",
       "      <td>TRAF - ACCIDENT - HIT &amp; RUN</td>\n",
       "      <td>5/27/23 22:21</td>\n",
       "      <td>E SPEER BLVD / N GRANT ST</td>\n",
       "      <td>-104.983794</td>\n",
       "      <td>39.723423</td>\n",
       "      <td>3</td>\n",
       "      <td>311.0</td>\n",
       "      <td>Speer</td>\n",
       "      <td>0.0</td>\n",
       "      <td>0.0</td>\n",
       "      <td>Side to Side-Same Direction</td>\n",
       "      <td>At Intersection</td>\n",
       "      <td>Dry</td>\n",
       "      <td>Dark-Lighted</td>\n",
       "      <td>SUV</td>\n",
       "      <td>South</td>\n",
       "      <td>Other (Describe in Narrative)</td>\n",
       "      <td>NaN</td>\n",
       "      <td>Not Observed</td>\n",
       "      <td>NaN</td>\n",
       "      <td>Passenger Car/Passenger Van</td>\n",
       "      <td>South</td>\n",
       "      <td>Going Straight</td>\n",
       "      <td>No Contributing Action</td>\n",
       "      <td>Not Observed</td>\n",
       "      <td>NaN</td>\n",
       "      <td>0.0</td>\n",
       "      <td>0.0</td>\n",
       "      <td>NaN</td>\n",
       "      <td>NaN</td>\n",
       "      <td>NaN</td>\n",
       "      <td>NaN</td>\n",
       "      <td>NaN</td>\n",
       "      <td>NaN</td>\n",
       "    </tr>\n",
       "  </tbody>\n",
       "</table>\n",
       "</div>"
      ],
      "text/plain": [
       "        offense_id  dist_from_signal    top_traffic_accident_offense  \\\n",
       "0  202412503554010               0.0  TRAF - ACCIDENT - HIT & RUN      \n",
       "1  202323009454010               0.0  TRAF - ACCIDENT - HIT & RUN      \n",
       "\n",
       "   reported_date           incident_address         lon        lat  \\\n",
       "0   3/5/24 15:07  E SPEER BLVD / N GRANT ST -104.983794  39.723423   \n",
       "1  5/27/23 22:21  E SPEER BLVD / N GRANT ST -104.983794  39.723423   \n",
       "\n",
       "  district_id  precinct_id neighborhood_id  bicycle_ind  pedestrian_ind  \\\n",
       "0           3        311.0           Speer          0.0             0.0   \n",
       "1           3        311.0           Speer          0.0             0.0   \n",
       "\n",
       "        HARMFUL_EVENT_SEQ_MOST      ROAD_DESCRIPTION ROAD_CONDITION  \\\n",
       "0                Front to Rear  Intersection Related            Dry   \n",
       "1  Side to Side-Same Direction       At Intersection            Dry   \n",
       "\n",
       "  LIGHT_CONDITION             TU1_VEHICLE_TYPE TU1_TRAVEL_DIRECTION  \\\n",
       "0        Daylight  Passenger Car/Passenger Van                 East   \n",
       "1    Dark-Lighted                          SUV                South   \n",
       "\n",
       "            TU1_VEHICLE_MOVEMENT TU1_DRIVER_ACTION  \\\n",
       "0                 Going Straight  Careless Driving   \n",
       "1  Other (Describe in Narrative)               NaN   \n",
       "\n",
       "  TU1_DRIVER_HUMANCONTRIBFACTOR TU1_PEDESTRIAN_ACTION  \\\n",
       "0            Aggressive Driving                   NaN   \n",
       "1                  Not Observed                   NaN   \n",
       "\n",
       "              TU2_VEHICLE_TYPE TU2_TRAVEL_DIRECTION TU2_VEHICLE_MOVEMENT  \\\n",
       "0  Passenger Car/Passenger Van                 East       Going Straight   \n",
       "1  Passenger Car/Passenger Van                South       Going Straight   \n",
       "\n",
       "        TU2_DRIVER_ACTION    TU2_DRIVER_HUMANCONTRIBFACTOR  \\\n",
       "0  No Contributing Action  No Apparent Contributing Factor   \n",
       "1  No Contributing Action                     Not Observed   \n",
       "\n",
       "  TU2_PEDESTRIAN_ACTION  SERIOUSLY_INJURED  FATALITIES FATALITY_MODE_1  \\\n",
       "0                   NaN                0.0         0.0             NaN   \n",
       "1                   NaN                0.0         0.0             NaN   \n",
       "\n",
       "  FATALITY_MODE_2 SERIOUSLY_INJURED_MODE_1 SERIOUSLY_INJURED_MODE_2  POINT_X  \\\n",
       "0             NaN                      NaN                      NaN      NaN   \n",
       "1             NaN                      NaN                      NaN      NaN   \n",
       "\n",
       "   POINT_Y  \n",
       "0      NaN  \n",
       "1      NaN  "
      ]
     },
     "execution_count": 7,
     "metadata": {},
     "output_type": "execute_result"
    }
   ],
   "source": [
    "accidents.head(2)"
   ]
  },
  {
   "cell_type": "markdown",
   "id": "3426e912",
   "metadata": {},
   "source": [
    "### Converting to Datetime and extracting months and years"
   ]
  },
  {
   "cell_type": "code",
   "execution_count": 8,
   "id": "e012131d",
   "metadata": {},
   "outputs": [
    {
     "ename": "ValueError",
     "evalue": "Time data 3/5/24 15:07 is not ISO8601 format, at position 0. You might want to try:\n    - passing `format` if your strings have a consistent format;\n    - passing `format='ISO8601'` if your strings are all ISO8601 but not necessarily in exactly the same format;\n    - passing `format='mixed'`, and the format will be inferred for each element individually. You might want to use `dayfirst` alongside this.",
     "output_type": "error",
     "traceback": [
      "\u001b[1;31m---------------------------------------------------------------------------\u001b[0m",
      "\u001b[1;31mValueError\u001b[0m                                Traceback (most recent call last)",
      "Cell \u001b[1;32mIn[8], line 1\u001b[0m\n\u001b[1;32m----> 1\u001b[0m accidents[\u001b[38;5;124m'\u001b[39m\u001b[38;5;124mreported_date\u001b[39m\u001b[38;5;124m'\u001b[39m] \u001b[38;5;241m=\u001b[39m \u001b[43mpd\u001b[49m\u001b[38;5;241;43m.\u001b[39;49m\u001b[43mto_datetime\u001b[49m\u001b[43m(\u001b[49m\u001b[43maccidents\u001b[49m\u001b[43m[\u001b[49m\u001b[38;5;124;43m'\u001b[39;49m\u001b[38;5;124;43mreported_date\u001b[39;49m\u001b[38;5;124;43m'\u001b[39;49m\u001b[43m]\u001b[49m\u001b[43m,\u001b[49m\u001b[43m \u001b[49m\u001b[38;5;28;43mformat\u001b[39;49m\u001b[38;5;241;43m=\u001b[39;49m\u001b[38;5;124;43m'\u001b[39;49m\u001b[38;5;124;43mISO8601\u001b[39;49m\u001b[38;5;124;43m'\u001b[39;49m\u001b[43m)\u001b[49m\n\u001b[0;32m      2\u001b[0m accidents[\u001b[38;5;124m'\u001b[39m\u001b[38;5;124mmonth\u001b[39m\u001b[38;5;124m'\u001b[39m] \u001b[38;5;241m=\u001b[39m accidents[\u001b[38;5;124m'\u001b[39m\u001b[38;5;124mreported_date\u001b[39m\u001b[38;5;124m'\u001b[39m]\u001b[38;5;241m.\u001b[39mdt\u001b[38;5;241m.\u001b[39mmonth\n\u001b[0;32m      3\u001b[0m accidents[\u001b[38;5;124m'\u001b[39m\u001b[38;5;124mmonth_name\u001b[39m\u001b[38;5;124m'\u001b[39m] \u001b[38;5;241m=\u001b[39m accidents[\u001b[38;5;124m'\u001b[39m\u001b[38;5;124mreported_date\u001b[39m\u001b[38;5;124m'\u001b[39m]\u001b[38;5;241m.\u001b[39mdt\u001b[38;5;241m.\u001b[39mmonth_name()\n",
      "File \u001b[1;32mD:\\Software\\Anaconda\\envs\\scooters\\lib\\site-packages\\pandas\\core\\tools\\datetimes.py:1067\u001b[0m, in \u001b[0;36mto_datetime\u001b[1;34m(arg, errors, dayfirst, yearfirst, utc, format, exact, unit, infer_datetime_format, origin, cache)\u001b[0m\n\u001b[0;32m   1065\u001b[0m         result \u001b[38;5;241m=\u001b[39m arg\u001b[38;5;241m.\u001b[39mmap(cache_array)\n\u001b[0;32m   1066\u001b[0m     \u001b[38;5;28;01melse\u001b[39;00m:\n\u001b[1;32m-> 1067\u001b[0m         values \u001b[38;5;241m=\u001b[39m \u001b[43mconvert_listlike\u001b[49m\u001b[43m(\u001b[49m\u001b[43marg\u001b[49m\u001b[38;5;241;43m.\u001b[39;49m\u001b[43m_values\u001b[49m\u001b[43m,\u001b[49m\u001b[43m \u001b[49m\u001b[38;5;28;43mformat\u001b[39;49m\u001b[43m)\u001b[49m\n\u001b[0;32m   1068\u001b[0m         result \u001b[38;5;241m=\u001b[39m arg\u001b[38;5;241m.\u001b[39m_constructor(values, index\u001b[38;5;241m=\u001b[39marg\u001b[38;5;241m.\u001b[39mindex, name\u001b[38;5;241m=\u001b[39marg\u001b[38;5;241m.\u001b[39mname)\n\u001b[0;32m   1069\u001b[0m \u001b[38;5;28;01melif\u001b[39;00m \u001b[38;5;28misinstance\u001b[39m(arg, (ABCDataFrame, abc\u001b[38;5;241m.\u001b[39mMutableMapping)):\n",
      "File \u001b[1;32mD:\\Software\\Anaconda\\envs\\scooters\\lib\\site-packages\\pandas\\core\\tools\\datetimes.py:433\u001b[0m, in \u001b[0;36m_convert_listlike_datetimes\u001b[1;34m(arg, format, name, utc, unit, errors, dayfirst, yearfirst, exact)\u001b[0m\n\u001b[0;32m    431\u001b[0m \u001b[38;5;66;03m# `format` could be inferred, or user didn't ask for mixed-format parsing.\u001b[39;00m\n\u001b[0;32m    432\u001b[0m \u001b[38;5;28;01mif\u001b[39;00m \u001b[38;5;28mformat\u001b[39m \u001b[38;5;129;01mis\u001b[39;00m \u001b[38;5;129;01mnot\u001b[39;00m \u001b[38;5;28;01mNone\u001b[39;00m \u001b[38;5;129;01mand\u001b[39;00m \u001b[38;5;28mformat\u001b[39m \u001b[38;5;241m!=\u001b[39m \u001b[38;5;124m\"\u001b[39m\u001b[38;5;124mmixed\u001b[39m\u001b[38;5;124m\"\u001b[39m:\n\u001b[1;32m--> 433\u001b[0m     \u001b[38;5;28;01mreturn\u001b[39;00m \u001b[43m_array_strptime_with_fallback\u001b[49m\u001b[43m(\u001b[49m\u001b[43marg\u001b[49m\u001b[43m,\u001b[49m\u001b[43m \u001b[49m\u001b[43mname\u001b[49m\u001b[43m,\u001b[49m\u001b[43m \u001b[49m\u001b[43mutc\u001b[49m\u001b[43m,\u001b[49m\u001b[43m \u001b[49m\u001b[38;5;28;43mformat\u001b[39;49m\u001b[43m,\u001b[49m\u001b[43m \u001b[49m\u001b[43mexact\u001b[49m\u001b[43m,\u001b[49m\u001b[43m \u001b[49m\u001b[43merrors\u001b[49m\u001b[43m)\u001b[49m\n\u001b[0;32m    435\u001b[0m result, tz_parsed \u001b[38;5;241m=\u001b[39m objects_to_datetime64(\n\u001b[0;32m    436\u001b[0m     arg,\n\u001b[0;32m    437\u001b[0m     dayfirst\u001b[38;5;241m=\u001b[39mdayfirst,\n\u001b[1;32m   (...)\u001b[0m\n\u001b[0;32m    441\u001b[0m     allow_object\u001b[38;5;241m=\u001b[39m\u001b[38;5;28;01mTrue\u001b[39;00m,\n\u001b[0;32m    442\u001b[0m )\n\u001b[0;32m    444\u001b[0m \u001b[38;5;28;01mif\u001b[39;00m tz_parsed \u001b[38;5;129;01mis\u001b[39;00m \u001b[38;5;129;01mnot\u001b[39;00m \u001b[38;5;28;01mNone\u001b[39;00m:\n\u001b[0;32m    445\u001b[0m     \u001b[38;5;66;03m# We can take a shortcut since the datetime64 numpy array\u001b[39;00m\n\u001b[0;32m    446\u001b[0m     \u001b[38;5;66;03m# is in UTC\u001b[39;00m\n",
      "File \u001b[1;32mD:\\Software\\Anaconda\\envs\\scooters\\lib\\site-packages\\pandas\\core\\tools\\datetimes.py:467\u001b[0m, in \u001b[0;36m_array_strptime_with_fallback\u001b[1;34m(arg, name, utc, fmt, exact, errors)\u001b[0m\n\u001b[0;32m    456\u001b[0m \u001b[38;5;28;01mdef\u001b[39;00m \u001b[38;5;21m_array_strptime_with_fallback\u001b[39m(\n\u001b[0;32m    457\u001b[0m     arg,\n\u001b[0;32m    458\u001b[0m     name,\n\u001b[1;32m   (...)\u001b[0m\n\u001b[0;32m    462\u001b[0m     errors: \u001b[38;5;28mstr\u001b[39m,\n\u001b[0;32m    463\u001b[0m ) \u001b[38;5;241m-\u001b[39m\u001b[38;5;241m>\u001b[39m Index:\n\u001b[0;32m    464\u001b[0m \u001b[38;5;250m    \u001b[39m\u001b[38;5;124;03m\"\"\"\u001b[39;00m\n\u001b[0;32m    465\u001b[0m \u001b[38;5;124;03m    Call array_strptime, with fallback behavior depending on 'errors'.\u001b[39;00m\n\u001b[0;32m    466\u001b[0m \u001b[38;5;124;03m    \"\"\"\u001b[39;00m\n\u001b[1;32m--> 467\u001b[0m     result, tz_out \u001b[38;5;241m=\u001b[39m \u001b[43marray_strptime\u001b[49m\u001b[43m(\u001b[49m\u001b[43marg\u001b[49m\u001b[43m,\u001b[49m\u001b[43m \u001b[49m\u001b[43mfmt\u001b[49m\u001b[43m,\u001b[49m\u001b[43m \u001b[49m\u001b[43mexact\u001b[49m\u001b[38;5;241;43m=\u001b[39;49m\u001b[43mexact\u001b[49m\u001b[43m,\u001b[49m\u001b[43m \u001b[49m\u001b[43merrors\u001b[49m\u001b[38;5;241;43m=\u001b[39;49m\u001b[43merrors\u001b[49m\u001b[43m,\u001b[49m\u001b[43m \u001b[49m\u001b[43mutc\u001b[49m\u001b[38;5;241;43m=\u001b[39;49m\u001b[43mutc\u001b[49m\u001b[43m)\u001b[49m\n\u001b[0;32m    468\u001b[0m     \u001b[38;5;28;01mif\u001b[39;00m tz_out \u001b[38;5;129;01mis\u001b[39;00m \u001b[38;5;129;01mnot\u001b[39;00m \u001b[38;5;28;01mNone\u001b[39;00m:\n\u001b[0;32m    469\u001b[0m         unit \u001b[38;5;241m=\u001b[39m np\u001b[38;5;241m.\u001b[39mdatetime_data(result\u001b[38;5;241m.\u001b[39mdtype)[\u001b[38;5;241m0\u001b[39m]\n",
      "File \u001b[1;32mstrptime.pyx:501\u001b[0m, in \u001b[0;36mpandas._libs.tslibs.strptime.array_strptime\u001b[1;34m()\u001b[0m\n",
      "File \u001b[1;32mstrptime.pyx:449\u001b[0m, in \u001b[0;36mpandas._libs.tslibs.strptime.array_strptime\u001b[1;34m()\u001b[0m\n",
      "\u001b[1;31mValueError\u001b[0m: Time data 3/5/24 15:07 is not ISO8601 format, at position 0. You might want to try:\n    - passing `format` if your strings have a consistent format;\n    - passing `format='ISO8601'` if your strings are all ISO8601 but not necessarily in exactly the same format;\n    - passing `format='mixed'`, and the format will be inferred for each element individually. You might want to use `dayfirst` alongside this."
     ]
    }
   ],
   "source": [
    "accidents['reported_date'] = pd.to_datetime(accidents['reported_date'], format='ISO8601')\n",
    "accidents['month'] = accidents['reported_date'].dt.month\n",
    "accidents['month_name'] = accidents['reported_date'].dt.month_name()\n",
    "accidents['year'] = accidents['reported_date'].dt.year"
   ]
  },
  {
   "cell_type": "code",
   "execution_count": null,
   "id": "7950ce12",
   "metadata": {},
   "outputs": [],
   "source": [
    "accidents.shape"
   ]
  },
  {
   "cell_type": "code",
   "execution_count": null,
   "id": "8132adc0",
   "metadata": {},
   "outputs": [],
   "source": [
    "accidents['reported_date'].describe"
   ]
  },
  {
   "cell_type": "code",
   "execution_count": null,
   "id": "4591dd9d",
   "metadata": {},
   "outputs": [],
   "source": [
    "accidents['month'] = accidents['reported_date'].dt.month\n",
    "accidents['month_name'] = accidents['reported_date'].dt.month_name()\n",
    "accidents['year'] = accidents['reported_date'].dt.year"
   ]
  },
  {
   "cell_type": "code",
   "execution_count": null,
   "id": "4a758c34",
   "metadata": {},
   "outputs": [],
   "source": [
    "over_time = accidents.groupby('year').agg({'offense_id' : 'nunique'}).reset_index()"
   ]
  },
  {
   "cell_type": "code",
   "execution_count": null,
   "id": "cf1b7053",
   "metadata": {},
   "outputs": [],
   "source": [
    "over_time"
   ]
  },
  {
   "cell_type": "code",
   "execution_count": null,
   "id": "6032acdb",
   "metadata": {},
   "outputs": [],
   "source": [
    "accidents['offense_id'].nunique()"
   ]
  },
  {
   "cell_type": "code",
   "execution_count": null,
   "id": "8c425582",
   "metadata": {},
   "outputs": [],
   "source": [
    "plt.plot(over_time['year'], over_time['offense_id'])"
   ]
  },
  {
   "cell_type": "code",
   "execution_count": null,
   "id": "72528aa3",
   "metadata": {},
   "outputs": [],
   "source": [
    "accidents.to_csv('../data/accidents_clean.csv')"
   ]
  },
  {
   "cell_type": "code",
   "execution_count": null,
   "id": "dfd03b60",
   "metadata": {},
   "outputs": [],
   "source": []
  }
 ],
 "metadata": {
  "kernelspec": {
   "display_name": "Python [conda env:scooters]",
   "language": "python",
   "name": "conda-env-scooters-py"
  },
  "language_info": {
   "codemirror_mode": {
    "name": "ipython",
    "version": 3
   },
   "file_extension": ".py",
   "mimetype": "text/x-python",
   "name": "python",
   "nbconvert_exporter": "python",
   "pygments_lexer": "ipython3",
   "version": "3.10.14"
  }
 },
 "nbformat": 4,
 "nbformat_minor": 5
}
