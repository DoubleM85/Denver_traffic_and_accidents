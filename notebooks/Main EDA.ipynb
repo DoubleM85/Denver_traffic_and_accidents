{
 "cells": [
  {
   "cell_type": "code",
   "execution_count": null,
   "id": "b284252b",
   "metadata": {
    "scrolled": true
   },
   "outputs": [],
   "source": [
    "import warnings\n",
    "warnings.simplefilter(action='ignore', category=FutureWarning)\n",
    "from sqlalchemy import create_engine, text\n",
    "import pandas as pd\n",
    "import psycopg2\n",
    "import matplotlib.pyplot as plt\n",
    "import seaborn as sns\n",
    "import geopandas as gpd\n",
    "from shapely import wkt\n",
    "import folium\n",
    "from folium.plugins import MarkerCluster\n",
    "from folium.plugins import FastMarkerCluster\n",
    "from sqlalchemy import create_engine, text\n",
    "import geopy.distance"
   ]
  },
  {
   "cell_type": "code",
   "execution_count": null,
   "id": "04a40d98",
   "metadata": {},
   "outputs": [],
   "source": [
    "pd.set_option('display.max_columns', None)"
   ]
  },
  {
   "cell_type": "markdown",
   "id": "59108425",
   "metadata": {},
   "source": [
    "### read in all the things"
   ]
  },
  {
   "cell_type": "code",
   "execution_count": null,
   "id": "4b1bc1f8",
   "metadata": {},
   "outputs": [],
   "source": [
    "### signals shape file\n",
    "signals_geo = gpd.read_file('../data/traffic_signals_geo.zip')"
   ]
  },
  {
   "cell_type": "code",
   "execution_count": null,
   "id": "6dac0151",
   "metadata": {},
   "outputs": [],
   "source": [
    "### intelligent devices shape file\n",
    "devices_geo = gpd.read_file('../data/intelligent_traffic_system_devices.zip')"
   ]
  },
  {
   "cell_type": "code",
   "execution_count": null,
   "id": "63d6148a",
   "metadata": {},
   "outputs": [],
   "source": [
    "### accidents csv\n",
    "accidents_geo = pd.read_csv('../data/traffic_accidents.csv')"
   ]
  },
  {
   "cell_type": "code",
   "execution_count": null,
   "id": "e17d5d2f",
   "metadata": {},
   "outputs": [],
   "source": [
    "### zipcodes csv\n",
    "zipcodes = gpd.read_file('../data/CO_Zips.zip')"
   ]
  },
  {
   "cell_type": "code",
   "execution_count": null,
   "id": "8d3b65a0",
   "metadata": {},
   "outputs": [],
   "source": [
    "accidents_geo.head(2)"
   ]
  },
  {
   "cell_type": "code",
   "execution_count": null,
   "id": "d1232376",
   "metadata": {},
   "outputs": [],
   "source": [
    "### date formatting\n",
    "accidents_geo['reported_date'] = pd.to_datetime(accidents_geo['reported_date'], format='mixed')\n"
   ]
  },
  {
   "cell_type": "code",
   "execution_count": null,
   "id": "9be282db",
   "metadata": {
    "scrolled": true
   },
   "outputs": [],
   "source": [
    "### convert Accidents to geodf\n",
    "accidents_geo = gpd.GeoDataFrame(accidents_geo, \n",
    "                           crs = signals_geo.crs, \n",
    "                           geometry = gpd.points_from_xy(accidents_geo['lon'], accidents_geo['lat']))"
   ]
  },
  {
   "cell_type": "code",
   "execution_count": null,
   "id": "a7441358",
   "metadata": {},
   "outputs": [],
   "source": [
    "zipcodes = zipcodes.to_crs(\"epsg:4326\") "
   ]
  },
  {
   "cell_type": "code",
   "execution_count": null,
   "id": "45bd21c0",
   "metadata": {},
   "outputs": [],
   "source": [
    "zipcodes.plot()"
   ]
  },
  {
   "cell_type": "code",
   "execution_count": null,
   "id": "57c6e846",
   "metadata": {},
   "outputs": [],
   "source": [
    "accidents_geo.head(2)"
   ]
  },
  {
   "cell_type": "code",
   "execution_count": null,
   "id": "399a4883",
   "metadata": {},
   "outputs": [],
   "source": [
    "accidents_geo.top_traffic_accident_offense.value_counts()"
   ]
  },
  {
   "cell_type": "markdown",
   "id": "1dc75249",
   "metadata": {},
   "source": [
    "#### Function/If Statement old way of doing things"
   ]
  },
  {
   "cell_type": "code",
   "execution_count": null,
   "id": "c3dac53e",
   "metadata": {},
   "outputs": [],
   "source": [
    "# def set_type(type):\n",
    "#     if type[\"top_traffic_accident_offense\"].strip() == \"TRAF - ACCIDENT\":\n",
    "#         return \"ACCIDENT\"\n",
    "#     elif type[\"top_traffic_accident_offense\"].strip() == \"TRAF - ACCIDENT - HIT & RUN\":\n",
    "#         return \"HIT & RUN\"\n",
    "#     elif type[\"top_traffic_accident_offense\"].strip() == \"TRAF - ACCIDENT - DUI/DUID\":\n",
    "#         return \"DUI\"\n",
    "#     elif type[\"top_traffic_accident_offense\"].strip() == \"TRAF - ACCIDENT - SBI\":\n",
    "#         return \"SBI\"\n",
    "#     elif type[\"top_traffic_accident_offense\"].strip() == \"TRAF - ACCIDENT - POLICE\":\n",
    "#         return \"POLICE\"\n",
    "#     elif type[\"top_traffic_accident_offense\"].strip() == \"TRAF - ACCIDENT - FATAL\":\n",
    "#         return \"FATAL\"\n",
    "#     else:\n",
    "#         pass\n",
    "    \n",
    "# accidents_geo = accidents_geo.assign(offense=accidents_geo.apply(set_type, axis=1))"
   ]
  },
  {
   "cell_type": "code",
   "execution_count": null,
   "id": "f3658bb8",
   "metadata": {},
   "outputs": [],
   "source": [
    "# accidents_geo[accidents_geo[\"top_traffic_accident_offense\"].strip() == \"TRAF - ACCIDENT - HIT & RUN\"]"
   ]
  },
  {
   "cell_type": "markdown",
   "id": "8dfa1238",
   "metadata": {},
   "source": [
    "#### ---------------------------------------------------------------------------"
   ]
  },
  {
   "cell_type": "markdown",
   "id": "919b1407",
   "metadata": {},
   "source": [
    "#### For loop to create the column instead"
   ]
  },
  {
   "cell_type": "code",
   "execution_count": null,
   "id": "cfbdc9cc",
   "metadata": {},
   "outputs": [],
   "source": [
    "x=[]\n",
    "for value in accidents_geo['top_traffic_accident_offense']:\n",
    "    x.append(value.split(\"-\")[-1].strip())\n",
    "#     print(value.split(\"-\")[-1].strip())"
   ]
  },
  {
   "cell_type": "code",
   "execution_count": null,
   "id": "2c5bf7d8",
   "metadata": {},
   "outputs": [],
   "source": [
    "accidents_geo['offense_clean'] = x"
   ]
  },
  {
   "cell_type": "code",
   "execution_count": null,
   "id": "c1b2e73e",
   "metadata": {},
   "outputs": [],
   "source": [
    "accidents_geo[accidents_geo['offense_clean'] == 'ACCIDENT']"
   ]
  },
  {
   "cell_type": "markdown",
   "id": "0cb4a55c",
   "metadata": {},
   "source": [
    "#### more date info extraction"
   ]
  },
  {
   "cell_type": "code",
   "execution_count": null,
   "id": "a5970982",
   "metadata": {},
   "outputs": [],
   "source": [
    "accidents_geo['reported_date'] = pd.to_datetime(accidents_geo['reported_date'], format='ISO8601')\n",
    "accidents_geo['month'] = accidents_geo['reported_date'].dt.month\n",
    "accidents_geo['month_name'] = accidents_geo['reported_date'].dt.month_name()\n",
    "accidents_geo['year'] = accidents_geo['reported_date'].dt.year\n",
    "accidents_geo['day_name'] = accidents_geo['reported_date'].dt.day_name()\n",
    "accidents_geo['hour'] = accidents_geo['reported_date'].dt.hour"
   ]
  },
  {
   "cell_type": "code",
   "execution_count": null,
   "id": "67dd7f6d",
   "metadata": {},
   "outputs": [],
   "source": [
    "accidents_geo.head()"
   ]
  },
  {
   "cell_type": "code",
   "execution_count": null,
   "id": "80df7fd3",
   "metadata": {},
   "outputs": [],
   "source": [
    "accidents_geo.offense_id.nunique()"
   ]
  },
  {
   "cell_type": "code",
   "execution_count": null,
   "id": "4ea1ecc6",
   "metadata": {},
   "outputs": [],
   "source": [
    "accidents_geo['TU1_TRAVEL_DIRECTION'] = accidents_geo['TU1_TRAVEL_DIRECTION'].str.lower()"
   ]
  },
  {
   "cell_type": "code",
   "execution_count": null,
   "id": "24bcf2cd",
   "metadata": {},
   "outputs": [],
   "source": [
    "accidents_geo['TU1_TRAVEL_DIRECTION'].value_counts()"
   ]
  },
  {
   "cell_type": "code",
   "execution_count": null,
   "id": "cc679992",
   "metadata": {},
   "outputs": [],
   "source": []
  },
  {
   "cell_type": "code",
   "execution_count": null,
   "id": "7a920529",
   "metadata": {},
   "outputs": [],
   "source": [
    "### join on zipcodes\n",
    "accidents_geo = gpd.sjoin(accidents_geo, zipcodes, predicate = 'within')"
   ]
  },
  {
   "cell_type": "code",
   "execution_count": null,
   "id": "ff1f45d1",
   "metadata": {},
   "outputs": [],
   "source": [
    "accidents_geo = accidents_geo.drop(columns=['index_right', 'OBJECTID', 'GEOID10'])\n",
    "accidents_geo = accidents_geo.rename(columns = {'ZCTA5CE10' : 'zipcode'})\n",
    "accidents_geo.head()"
   ]
  },
  {
   "cell_type": "code",
   "execution_count": null,
   "id": "4c6d3e53",
   "metadata": {},
   "outputs": [],
   "source": [
    "### function to build season column based on month\n",
    "def get_season(x):\n",
    "    if (x['month_name'] == \"December\" or x['month_name'] == \"January\" or x['month_name'] == \"February\" or x['month_name'] == \"March\"):\n",
    "       return \"WINTER\"\n",
    "    elif(x['month_name'] == \"April\" or x['month_name'] == \"May\"):\n",
    "       return \"SPRING\"\n",
    "    elif(x['month_name'] ==\"June\" or x['month_name']==\"July\" or x['month_name'] == \"August\" or x['month_name'] == \"September\"):\n",
    "       return \"SUMMER\"\n",
    "    else:\n",
    "       return \"FALL\"\n",
    "\n",
    "accidents_geo = accidents_geo.assign(season=accidents_geo.apply(get_season, axis=1))"
   ]
  },
  {
   "cell_type": "code",
   "execution_count": null,
   "id": "ee0e641a",
   "metadata": {},
   "outputs": [],
   "source": [
    "accidents_geo.head()"
   ]
  },
  {
   "cell_type": "code",
   "execution_count": null,
   "id": "902676f7",
   "metadata": {
    "scrolled": true
   },
   "outputs": [],
   "source": [
    "signals_geo.head()"
   ]
  },
  {
   "cell_type": "code",
   "execution_count": null,
   "id": "f2bc1aa2",
   "metadata": {
    "scrolled": true
   },
   "outputs": [],
   "source": [
    "accidents_geo.head()"
   ]
  },
  {
   "cell_type": "code",
   "execution_count": null,
   "id": "9010c23e",
   "metadata": {},
   "outputs": [],
   "source": [
    "### extract lat and long\n",
    "signals_geo['lon'] = signals_geo['geometry'].x\n",
    "signals_geo['lat'] = signals_geo['geometry'].y"
   ]
  },
  {
   "cell_type": "code",
   "execution_count": null,
   "id": "e65f5672",
   "metadata": {},
   "outputs": [],
   "source": []
  },
  {
   "cell_type": "code",
   "execution_count": null,
   "id": "f470f239",
   "metadata": {},
   "outputs": [],
   "source": []
  },
  {
   "cell_type": "code",
   "execution_count": null,
   "id": "b9637565",
   "metadata": {},
   "outputs": [],
   "source": [
    "# for crash in accidents_geo.index:\n",
    "#     distances = []\n",
    "#     for sig in signals_geo.index:\n",
    "#         distances.append(geopy.distance.distance(accidents_geo.loc[crash, ['lat','lon']], signals_geo.loc[sig,['lat','lon']]))\n",
    "#     min_dist = min(distances)\n",
    "#     accidents_geo.loc[crash, 'min_distance'] = min_dist\n",
    "\n",
    "# accidents_geo.head()"
   ]
  },
  {
   "cell_type": "markdown",
   "id": "482ef1f1",
   "metadata": {},
   "source": [
    "### testing a for loop on a small subset"
   ]
  },
  {
   "cell_type": "code",
   "execution_count": null,
   "id": "a2f7df34",
   "metadata": {},
   "outputs": [],
   "source": [
    "acc100 = accidents_geo.head(10)"
   ]
  },
  {
   "cell_type": "code",
   "execution_count": null,
   "id": "f2e1c684",
   "metadata": {},
   "outputs": [],
   "source": [
    "sig100 = signals_geo.head(10)"
   ]
  },
  {
   "cell_type": "code",
   "execution_count": null,
   "id": "91c9b29a",
   "metadata": {},
   "outputs": [],
   "source": [
    "for crash in acc100.index:\n",
    "    distances = []\n",
    "    for sig in sig100.index:\n",
    "        distances.append(geopy.distance.distance(acc100.loc[crash, ['lat','lon']], sig100.loc[sig,['lat','lon']]))\n",
    "    min_dist = min(distances)\n",
    "    acc100.loc[crash, 'min_distance'] = min_dist"
   ]
  },
  {
   "cell_type": "code",
   "execution_count": null,
   "id": "fb51a760",
   "metadata": {},
   "outputs": [],
   "source": [
    "acc100"
   ]
  },
  {
   "cell_type": "code",
   "execution_count": null,
   "id": "0fb2e9de",
   "metadata": {},
   "outputs": [],
   "source": [
    "# # # def get_distance(self):\n",
    "    \n",
    "# for i,row in accidents_geo.iterrows(): # A\n",
    "#     a = row.lat, row.lon\n",
    "#     distances = []\n",
    "#     for j,row2 in signals_geo.iterrows(): # B\n",
    "#         b = row2.lat, row2.lon\n",
    "#         distances.append(geopy.distance.geodesic(a, b).miles)\n",
    "\n",
    "#     min_distance = min(distances)\n",
    "#     min_index = distances.index(min_distance)\n",
    "# #         return(min_distance)    \n",
    "# print(min_distance, \"miles\")"
   ]
  },
  {
   "cell_type": "code",
   "execution_count": null,
   "id": "bc542688",
   "metadata": {},
   "outputs": [],
   "source": [
    "# accidents_geo = accidents_geo.assign(distance_to_signal=accidents_geo.apply(get_distance))"
   ]
  },
  {
   "cell_type": "code",
   "execution_count": null,
   "id": "d2e9e375",
   "metadata": {
    "scrolled": true
   },
   "outputs": [],
   "source": [
    "accidents_geo.head(2)"
   ]
  },
  {
   "cell_type": "code",
   "execution_count": null,
   "id": "775ca2e7",
   "metadata": {},
   "outputs": [],
   "source": [
    "accidents_geo['LIGHT_CONDITION'] = accidents_geo['LIGHT_CONDITION'].str.lower()"
   ]
  },
  {
   "cell_type": "code",
   "execution_count": null,
   "id": "eeed1a97",
   "metadata": {},
   "outputs": [],
   "source": [
    "accidents_geo['LIGHT_CONDITION'] = accidents_geo['LIGHT_CONDITION'].str.replace('-',' ')"
   ]
  },
  {
   "cell_type": "code",
   "execution_count": null,
   "id": "02247946",
   "metadata": {
    "scrolled": true
   },
   "outputs": [],
   "source": [
    "accidents_geo['LIGHT_CONDITION'].value_counts()"
   ]
  },
  {
   "cell_type": "code",
   "execution_count": null,
   "id": "5b151fd2",
   "metadata": {},
   "outputs": [],
   "source": [
    "accidents_geo['reported_date'].min()"
   ]
  },
  {
   "cell_type": "code",
   "execution_count": null,
   "id": "20054572",
   "metadata": {},
   "outputs": [],
   "source": [
    "accidents_geo['reported_date'].max()"
   ]
  },
  {
   "cell_type": "code",
   "execution_count": null,
   "id": "85db3231",
   "metadata": {},
   "outputs": [],
   "source": [
    "accidents_geo['ROAD_CONDITION'] = accidents_geo['ROAD_CONDITION'].str.lower()"
   ]
  },
  {
   "cell_type": "code",
   "execution_count": null,
   "id": "3e29007f",
   "metadata": {},
   "outputs": [],
   "source": [
    "accidents_geo['ROAD_DESCRIPTION'] = accidents_geo['ROAD_DESCRIPTION'].str.lower()"
   ]
  },
  {
   "cell_type": "code",
   "execution_count": null,
   "id": "48205b71",
   "metadata": {},
   "outputs": [],
   "source": [
    "accidents_geo['ROAD_DESCRIPTION'] = accidents_geo['ROAD_DESCRIPTION'].str.replace('-',' ')"
   ]
  },
  {
   "cell_type": "code",
   "execution_count": null,
   "id": "560f5b89",
   "metadata": {},
   "outputs": [],
   "source": [
    "accidents_geo['ROAD_DESCRIPTION'].value_counts()"
   ]
  },
  {
   "cell_type": "code",
   "execution_count": null,
   "id": "6f149452",
   "metadata": {},
   "outputs": [],
   "source": [
    "traffic = pd.read_csv('../data/MASTER_TRAFFIC_COUNT.csv')\n",
    "traffic.head()"
   ]
  },
  {
   "cell_type": "code",
   "execution_count": null,
   "id": "d1e835f2",
   "metadata": {},
   "outputs": [],
   "source": []
  },
  {
   "cell_type": "code",
   "execution_count": null,
   "id": "9ff536b3",
   "metadata": {},
   "outputs": [],
   "source": [
    "signals_geo.to_csv('../data/traffic_signals_geo.csv', index=False)\n",
    "devices_geo.to_csv('../data/intelligent_traffic_system_devices.csv', index=False)\n",
    "accidents_geo.to_csv('../data/traffic_accidents.csv', index=False)"
   ]
  },
  {
   "cell_type": "code",
   "execution_count": null,
   "id": "0417e593",
   "metadata": {},
   "outputs": [],
   "source": [
    "accidents_geo.head()"
   ]
  },
  {
   "cell_type": "markdown",
   "id": "8593cabd",
   "metadata": {},
   "source": [
    "### No more on this notebook. Quit running it."
   ]
  },
  {
   "cell_type": "code",
   "execution_count": null,
   "id": "12bd02fa",
   "metadata": {},
   "outputs": [],
   "source": []
  }
 ],
 "metadata": {
  "kernelspec": {
   "display_name": "Python [conda env:scooters]",
   "language": "python",
   "name": "conda-env-scooters-py"
  },
  "language_info": {
   "codemirror_mode": {
    "name": "ipython",
    "version": 3
   },
   "file_extension": ".py",
   "mimetype": "text/x-python",
   "name": "python",
   "nbconvert_exporter": "python",
   "pygments_lexer": "ipython3",
   "version": "3.10.14"
  }
 },
 "nbformat": 4,
 "nbformat_minor": 5
}
